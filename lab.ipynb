{
 "metadata": {
  "language_info": {
   "codemirror_mode": {
    "name": "ipython",
    "version": 3
   },
   "file_extension": ".py",
   "mimetype": "text/x-python",
   "name": "python",
   "nbconvert_exporter": "python",
   "pygments_lexer": "ipython3",
   "version": "3.9.0-final"
  },
  "orig_nbformat": 2,
  "kernelspec": {
   "name": "python3",
   "display_name": "Python 3.9.0 64-bit",
   "metadata": {
    "interpreter": {
     "hash": "767d51c1340bd893661ea55ea3124f6de3c7a262a8b4abca0554b478b1e2ff90"
    }
   }
  }
 },
 "nbformat": 4,
 "nbformat_minor": 2,
 "cells": [
  {
   "cell_type": "code",
   "execution_count": null,
   "metadata": {},
   "outputs": [],
   "source": [
    "from random import choice\n",
    "from queue import Queue\n",
    "import numpy as np\n",
    "import matplotlib.pyplot as plt\n",
    "import math\n",
    "import time"
   ]
  },
  {
   "source": [
    "## Генератор данных"
   ],
   "cell_type": "markdown",
   "metadata": {}
  },
  {
   "cell_type": "code",
   "execution_count": null,
   "metadata": {},
   "outputs": [],
   "source": [
    "def generate_adjacency_matrix(vertice_amount, edge_amount, weight_threshold):\n",
    "    adj_matrix = np.zeros((vertice_amount, vertice_amount), dtype=int)\n",
    "    edges_in_matrix = 0\n",
    "\n",
    "    while edges_in_matrix < edge_amount:\n",
    "        vertice_1 = choice([i for i in range(vertice_amount) if 0 in adj_matrix[i]])\n",
    "        vertice_2 = choice([i for i in range(vertice_amount) if i != vertice_1])\n",
    "        # if (adj_matrix[vertice_1, vertice_2] != 0 or vertice_1 == vertice_2):\n",
    "        #     continue\n",
    "        # else:\n",
    "        weight = choice(range(1, weight_threshold))\n",
    "        adj_matrix[vertice_1, vertice_2] = weight\n",
    "        adj_matrix[vertice_2, vertice_1] = weight\n",
    "        edges_in_matrix = edges_in_matrix + 1\n",
    "\n",
    "    return adj_matrix"
   ]
  },
  {
   "source": [
    "## Алгоритм Левита"
   ],
   "cell_type": "markdown",
   "metadata": {}
  },
  {
   "cell_type": "code",
   "execution_count": null,
   "metadata": {},
   "outputs": [],
   "source": [
    "\n",
    "\n",
    "def sssp_levit(graph, source = 0):\n",
    "    weights = [math.inf for vertex in graph]\n",
    "    weights[source] = 0\n",
    "\n",
    "    def relax_edge(source, dest):\n",
    "        weight = weights[source] + graph[source, dest]\n",
    "        if weight < weights[dest]:\n",
    "            weights[dest] = weight\n",
    "\n",
    "    # set использует в качестве основы хэш-таблицу - сложность O(1)\n",
    "    calculated = set()\n",
    "    calculating = set()\n",
    "    to_calculate = set()\n",
    "\n",
    "    calculating_normally = Queue()\n",
    "    calculating_urgently = Queue()\n",
    "    \n",
    "    # первичный шаг\n",
    "    calculating_normally.put(source)\n",
    "    calculating.add(source)\n",
    "\n",
    "    for vertex in [vertex for vertex in range(len(graph)) if vertex != source]:\n",
    "        to_calculate.add(vertex)\n",
    "\n",
    "    while len(calculating) != 0:\n",
    "        current_vertex = None\n",
    "\n",
    "        if not calculating_urgently.empty():\n",
    "            current_vertex = calculating_urgently.get()\n",
    "            calculating.remove(current_vertex)\n",
    "        elif not calculating_normally.empty():\n",
    "            current_vertex = calculating_normally.get()\n",
    "            calculating.remove(current_vertex)\n",
    "        \n",
    "        adjacent_vertices = [vertex for vertex in range(len(graph)) if graph[current_vertex, vertex] != 0]\n",
    "\n",
    "        for adjacent_vertex in adjacent_vertices:\n",
    "            if adjacent_vertex in to_calculate:\n",
    "                relax_edge(current_vertex, adjacent_vertex)\n",
    "                calculating_normally.put(adjacent_vertex)\n",
    "                calculating.add(adjacent_vertex)\n",
    "                to_calculate.remove(adjacent_vertex)\n",
    "            elif adjacent_vertex in calculating:\n",
    "                relax_edge(current_vertex, adjacent_vertex)\n",
    "            elif adjacent_vertex in calculated and weights[adjacent_vertex] > weights[current_vertex] + graph[current_vertex, adjacent_vertex]:\n",
    "                calculating_urgently.put(adjacent_vertex)\n",
    "                calculating.add(adjacent_vertex)\n",
    "                relax_edge(current_vertex, adjacent_vertex)\n",
    "   \n",
    "        calculated.add(current_vertex)\n",
    "\n",
    "    return weights\n",
    "        \n",
    "\n",
    "\n",
    "\n",
    "\n",
    "\n",
    "        \n",
    "            \n",
    "\n"
   ]
  },
  {
   "source": [
    "## Вычислительный эксперимент"
   ],
   "cell_type": "markdown",
   "metadata": {}
  },
  {
   "cell_type": "code",
   "execution_count": null,
   "metadata": {
    "tags": []
   },
   "outputs": [],
   "source": [
    "vertice_amounts = [10, 20, 30, 40, 50, 60, 70, 80, 90, 100]\n",
    "iterations = 5\n",
    "\n",
    "elapsed_times = []\n",
    "\n",
    "for vertice_amount in vertice_amounts:\n",
    "    overall_time = 0\n",
    "    for _ in range(iterations):\n",
    "        adj_matrix = generate_adjacency_matrix(vertice_amount, vertice_amount * (vertice_amount - 1), 100)\n",
    "        start_time = time.time()\n",
    "        matrix = sssp_levit(adj_matrix, 0)\n",
    "        overall_time += time.time() - start_time\n",
    "    average_time = overall_time / iterations\n",
    "    print(vertice_amount * (vertice_amount - 1), average_time)\n",
    "    elapsed_times.append(average_time)\n",
    "\n",
    "fig_experiment, ax_experiment = plt.subplots()\n",
    "fig_4, ax_4 = plt.subplots()\n",
    "fig_3, ax_3 = plt.subplots()\n",
    "fig_log, ax_log = plt.subplots()\n",
    "\n",
    "ax_experiment.plot(vertice_amounts, elapsed_times)\n",
    "ax_4.plot(vertice_amounts, [vertice_amount**4 for vertice_amount in vertice_amounts])\n",
    "ax_3.plot(vertice_amounts, [vertice_amount**3 for vertice_amount in vertice_amounts])\n",
    "ax_log.plot(vertice_amounts, [(vertice_amount)**2 * math.log((vertice_amount**2)) for vertice_amount in vertice_amounts])\n"
   ]
  },
  {
   "cell_type": "code",
   "execution_count": null,
   "metadata": {},
   "outputs": [],
   "source": [
    "doubled_elapsed_times = []\n",
    "\n",
    "for vertice_amount in vertice_amounts:\n",
    "    doubled_vertice_amount = vertice_amount * 2\n",
    "    overall_time = 0\n",
    "    for _ in range(iterations):\n",
    "        matrix = generate_adjacency_matrix(doubled_vertice_amount, doubled_vertice_amount * (doubled_vertice_amount - 1), 100)\n",
    "        \n",
    "        start_time = time.time()\n",
    "        matrix = sssp_levit(matrix, 0)\n",
    "        overall_time += time.time() - start_time\n",
    "    average_time = overall_time / iterations\n",
    "    print(doubled_vertice_amount * (doubled_vertice_amount - 1), average_time)\n",
    "    doubled_elapsed_times.append(average_time)\n",
    "\n",
    "fig_experiment, ax_experiment = plt.subplots()\n",
    "fig_control, ax_control = plt.subplots()\n",
    "\n",
    "for i in range(len(vertice_amounts)):\n",
    "    print(elapsed_times[i], doubled_elapsed_times[i], doubled_elapsed_times[i]/elapsed_times[i])\n",
    "\n",
    "ax_experiment.plot([vertice_amount * 2 for vertice_amount in vertice_amounts], elapsed_times)\n",
    "ax_control.plot(vertice_amounts, [(2*vertice_amount)**4 for vertice_amount in vertice_amounts])"
   ]
  },
  {
   "cell_type": "code",
   "execution_count": null,
   "metadata": {},
   "outputs": [],
   "source": []
  }
 ]
}